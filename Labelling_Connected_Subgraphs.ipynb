{
 "cells": [
  {
   "cell_type": "markdown",
   "metadata": {},
   "source": [
    "## Summary\n",
    "This notebook implements a simple [two-pass algorithm for labeling the connected components of a graph](https://en.wikipedia.org/wiki/Connected-component_labeling#Two-pass) on a 2D lattice. Specifically, a 2D matrix of floats is specified along with a threshold value. Values beneath the threshold are mapped to 0 ('background'), otherwise the values are mapped to 1 ('foreground'). Assuming 8-connectivity, adjacent foreground elements are considered to be 'connected' to one another. This is performed using a union-find data structure, which leverages [*union by rank* and *path compression*](https://en.wikipedia.org/wiki/Disjoint-set_data_structure#Disjoint-set_forests).\n",
    "\n",
    "The 2D matrix and threshold value are passed to `first_pass`. This produces a pointer-tree: a 1D array of $N_{row} \\times N_{col}$ integers. The elements of the pointer tree are sorted in conjunction with the matrix in row-major ordering. A negative value indicates the element in the matrix is a root of a connected component; the magnitude of that value indicates the total number of elements in that connected component. Otherwise a non-negative value is the flat-index that points to another element in its connected component.\n",
    "\n",
    "For example, the pointer-tree: \n",
    "```python    \n",
    "   [-3, 0, 0, -2, 3]\n",
    "```\n",
    "corresponds to a graph with two connected components. element-0 is the root of the component\n",
    "containing `{0, 1, 2}`. element-3 is the root of the component containing `{3, 4}`.\n",
    "\n",
    "`second_pass` then transforms the pointer tree such that all non-negative elements point directly to the root of a connected component. The 'background' elements are all grouped into a single '~~connected~~' component\n",
    "\n",
    "## Example\n",
    "\n",
    "```python\n",
    ">>> img = np.array([ [0, 1, 1, 0],\n",
    "                     [0, 0, 1, 0],\n",
    "                     [1, 0, 0, 0],\n",
    "                     [1, 1, 1, 1]])\n",
    "\n",
    ">>> first_pass(img, 0.99).reshape(4,4)  # pointer tree, reshaped so that it is easy to correspond with the matrix\n",
    "array([[-8, -3,  1,  0],\n",
    "       [ 0,  0,  1,  0],\n",
    "       [-5,  0,  0,  0],\n",
    "       [ 8,  8,  8,  8]], dtype=int64)\n",
    "```"
   ]
  },
  {
   "cell_type": "code",
   "execution_count": 1,
   "metadata": {
    "collapsed": true
   },
   "outputs": [],
   "source": [
    "import numpy as np\n",
    "import numba\n",
    "from disjoint_forest import find_root, union"
   ]
  },
  {
   "cell_type": "code",
   "execution_count": 11,
   "metadata": {
    "collapsed": false
   },
   "outputs": [],
   "source": [
    "@numba.jit(nopython=True)\n",
    "def first_pass(img, thresh):\n",
    "    \"\"\" Returns a pointer-tree indicating the connected components for `img`.\n",
    "    \n",
    "        Assumes 8-connectivity: foreground elements are connected if they\n",
    "        are horizontally, vertically, or diagonally adjacent.\n",
    "    \n",
    "        Parameters\n",
    "        ----------\n",
    "        img : numpy.array[[float, ...], ...]\n",
    "           A N by M matrix of float values.\n",
    "        thresh : float\n",
    "           The value below which all elements of `img` will be considered to be part\n",
    "           of the 'background'.\n",
    "           \n",
    "        Returns\n",
    "        -------\n",
    "        numpy.array[int, ...]\n",
    "           A NxM-length array of pointer values. \"\"\"\n",
    "    num_row, num_col = img.shape\n",
    "    ptr = -1*np.ones(num_row*num_row, dtype=np.int64)  # initialized pointer-tree\n",
    "    bkgrnd_id = -1\n",
    "    n = -1\n",
    "    neighbor_links = [(1, (0, 1)), (num_col, (1, 0)), (num_col + 1, (1, 1))]\n",
    "    for row in range(num_row):  # ndenumerate isn't working with numba...\n",
    "        for col in range(num_col):\n",
    "            n += 1\n",
    "            value = img[row, col]  \n",
    "            if value < thresh:  # element is part of 'background'\n",
    "                if bkgrnd_id == -1:\n",
    "                    bkgrnd_id = n\n",
    "                else:\n",
    "                    union(bkgrnd_id, n, ptr)\n",
    "            else:  # element is part of connected component                \n",
    "                for dn, (drow, dcol) in neighbor_links:\n",
    "                    n_n = n + dn\n",
    "                    n_row = row + drow\n",
    "                    n_col = col + dcol\n",
    "                    if n_row > num_row - 1 or n_col > num_col -1:\n",
    "                        continue\n",
    "                    n_value = img[n_row, n_col]\n",
    "                    if n_value < thresh:\n",
    "                        continue\n",
    "                    union(n, n_n, ptr)\n",
    "    return ptr\n",
    "\n",
    "@numba.jit(nopython=True)\n",
    "def second_pass(pntr_tree):\n",
    "    \"\"\" Points all non-root elements in a pointer-tree to a root.\n",
    "        \n",
    "        Parameters\n",
    "        ----------\n",
    "        pntr_tree : numpy.array([int, ...])\n",
    "        \n",
    "        Returns\n",
    "        -------\n",
    "        numpy.array([int, ...])\"\"\"\n",
    "    # TODO: add bbox memorization\n",
    "    for i in range(len(pntr_tree)):\n",
    "        find_root(i, pntr_tree)"
   ]
  },
  {
   "cell_type": "code",
   "execution_count": 12,
   "metadata": {
    "collapsed": false
   },
   "outputs": [],
   "source": [
    "img = np.array([ [0, 1, 1, 0],\n",
    "                 [0, 0, 1, 0],\n",
    "                 [1, 0, 0, 0],\n",
    "                 [1, 1, 1, 1]])"
   ]
  },
  {
   "cell_type": "code",
   "execution_count": 13,
   "metadata": {
    "collapsed": false
   },
   "outputs": [
    {
     "data": {
      "text/plain": [
       "array([[-8, -3,  1,  0],\n",
       "       [ 0,  0,  1,  0],\n",
       "       [-5,  0,  0,  0],\n",
       "       [ 8,  8,  8,  8]], dtype=int64)"
      ]
     },
     "execution_count": 13,
     "metadata": {},
     "output_type": "execute_result"
    }
   ],
   "source": [
    "first_pass(img, 0.99).reshape(4,4)"
   ]
  },
  {
   "cell_type": "markdown",
   "metadata": {},
   "source": [
    "### Benchmark"
   ]
  },
  {
   "cell_type": "code",
   "execution_count": 14,
   "metadata": {
    "collapsed": true
   },
   "outputs": [],
   "source": [
    "n, m = 200, 200\n",
    "img = (np.random.rand(n, m) < .4).astype(np.int64)  # create a random nxm matrix"
   ]
  },
  {
   "cell_type": "code",
   "execution_count": 16,
   "metadata": {
    "collapsed": false
   },
   "outputs": [
    {
     "name": "stdout",
     "output_type": "stream",
     "text": [
      "The slowest run took 56.68 times longer than the fastest. This could mean that an intermediate result is being cached.\n",
      "100 loops, best of 3: 2.58 ms per loop\n"
     ]
    }
   ],
   "source": [
    "%%timeit\n",
    "out = first_pass(img, .5)"
   ]
  },
  {
   "cell_type": "markdown",
   "metadata": {},
   "source": [
    "### Scratch Work"
   ]
  },
  {
   "cell_type": "code",
   "execution_count": 253,
   "metadata": {
    "collapsed": true
   },
   "outputs": [],
   "source": [
    "out = crawl_img(img, .5)"
   ]
  },
  {
   "cell_type": "code",
   "execution_count": 261,
   "metadata": {
    "collapsed": false
   },
   "outputs": [
    {
     "data": {
      "text/plain": [
       "(array([  0,   6,  10,  22,  37,  53,  62,  65,  89, 102, 125, 131, 142,\n",
       "        158, 170, 172, 174, 180, 198, 202, 211, 213, 215, 226, 240, 243,\n",
       "        245, 251, 270, 275, 299, 314, 316, 320, 323, 332, 347, 354, 360,\n",
       "        377, 394], dtype=int64),)"
      ]
     },
     "execution_count": 261,
     "metadata": {},
     "output_type": "execute_result"
    }
   ],
   "source": [
    "np.where(out < 0)"
   ]
  },
  {
   "cell_type": "code",
   "execution_count": 259,
   "metadata": {
    "collapsed": false
   },
   "outputs": [
    {
     "data": {
      "text/plain": [
       "6"
      ]
     },
     "execution_count": 259,
     "metadata": {},
     "output_type": "execute_result"
    }
   ],
   "source": [
    "len(np.unique(out[np.where(out < 0)]))"
   ]
  },
  {
   "cell_type": "code",
   "execution_count": 258,
   "metadata": {
    "collapsed": false
   },
   "outputs": [
    {
     "data": {
      "text/plain": [
       "array([  0,  10,  37,  53,  65, 158, 180, 198, 215, 270, 316, 323, 347,\n",
       "       354, 360, 377], dtype=int64)"
      ]
     },
     "execution_count": 258,
     "metadata": {},
     "output_type": "execute_result"
    }
   ],
   "source": [
    "np.unique(out[np.where(out > -1)])"
   ]
  },
  {
   "cell_type": "code",
   "execution_count": 236,
   "metadata": {
    "collapsed": false
   },
   "outputs": [
    {
     "data": {
      "text/plain": [
       "9"
      ]
     },
     "execution_count": 236,
     "metadata": {},
     "output_type": "execute_result"
    }
   ],
   "source": [
    "out[72]"
   ]
  },
  {
   "cell_type": "code",
   "execution_count": 257,
   "metadata": {
    "collapsed": false
   },
   "outputs": [],
   "source": [
    "for i in range(len(out)):\n",
    "    find_root(i, out)"
   ]
  },
  {
   "cell_type": "code",
   "execution_count": 238,
   "metadata": {
    "collapsed": false
   },
   "outputs": [
    {
     "data": {
      "text/plain": [
       "-400"
      ]
     },
     "execution_count": 238,
     "metadata": {},
     "output_type": "execute_result"
    }
   ],
   "source": [
    "np.sum(out[np.where(out < 0)])"
   ]
  },
  {
   "cell_type": "code",
   "execution_count": 237,
   "metadata": {
    "collapsed": false
   },
   "outputs": [
    {
     "name": "stdout",
     "output_type": "stream",
     "text": [
      "[[-183 -137    1    0    0    0    0   25    0  -44    9    9    9    9\n",
      "     9    9    9    9    9    0]\n",
      " [   0    1    1    1    0   -7   25   25    0    9    0    0    9    9\n",
      "     0    0    9    0    0    9]\n",
      " [   1    1    1    1    0    0   25   25    0    9    0    9    0    0\n",
      "     9    0    9    0    9    0]\n",
      " [   0    1    0    1    1    1    0   25    0    9    0    9    9    0\n",
      "     0    0    9    9    9    9]\n",
      " [   1    1    0    0    0    1    1    0    0    0    9    9    9    0\n",
      "     1    1    0    0    0    0]\n",
      " [   1    0    0    1    1    0    0    1    1    1    0    0    9    0\n",
      "     0    1    1    1    0    1]\n",
      " [   0    0    1    1    1    1    1    1    1    0    0    0    9    0\n",
      "     0    1    1    0    0    1]\n",
      " [   0    0    0    1    1    1    1    1    1    0    0    9    9    9\n",
      "     0    1    0    1    1    1]\n",
      " [   0    0    0    1    0    1    0    0    0    1    1    0    9    0\n",
      "     9    0    0    1    0    0]\n",
      " [   0    0    0    1    1    0    1    0    1    1    0    0    9    0\n",
      "     9    0    0    1    1    1]\n",
      " [ -10    0    0    1    0    0    1    0    0    0    1    1    0    9\n",
      "     9    0    1    1    1    0]\n",
      " [ 200    0    0    0    1    1    1    1    0    1    1    0    0    9\n",
      "     9    9    0    1    0    1]\n",
      " [ 200  200    0    1    1    0    1    0    1    1    1    0    0    0\n",
      "     0    0    0    1    1    1]\n",
      " [   0  200    0    1    1    0    1    1    0    0    1    1    1    1\n",
      "     1    0    1    1    1    1]\n",
      " [   0  200  200    0    0    1    0    1    0    0    0    1    1    0\n",
      "     1    1    1    1    0    1]\n",
      " [ -15    0  200  200    0    1    1    1    0    0    1    0    1    0\n",
      "     0    1    1    1    0    0]\n",
      " [ 300    0  200    0    0    0    0    1    1    0    0    1    1    0\n",
      "     0    0    0    0    0   -1]\n",
      " [   0  300    0    0    0    0  300    0    1    1    1    1    0    0\n",
      "     1    1    1    0    0    0]\n",
      " [   0  300  300  300  300  300    0  300    0    0    1    0    0    1\n",
      "     0    1    1    0   -2    0]\n",
      " [   0  300  300    0  300    0  300  300    0   -1    0    1    1    1\n",
      "     1    1    1    0  378    0]]\n"
     ]
    }
   ],
   "source": [
    "print(out.reshape(img.shape))"
   ]
  },
  {
   "cell_type": "code",
   "execution_count": 16,
   "metadata": {
    "collapsed": false
   },
   "outputs": [
    {
     "data": {
      "text/plain": [
       "[(0, 0), (0, 1), (0, 2), (1, 0), (1, 1), (1, 2), (2, 0), (2, 1), (2, 2)]"
      ]
     },
     "execution_count": 16,
     "metadata": {},
     "output_type": "execute_result"
    }
   ],
   "source": [
    "[(r,c) for r,c in np.ndindex(3, 3)]"
   ]
  },
  {
   "cell_type": "code",
   "execution_count": null,
   "metadata": {
    "collapsed": true
   },
   "outputs": [],
   "source": []
  }
 ],
 "metadata": {
  "anaconda-cloud": {},
  "kernelspec": {
   "display_name": "Python [conda env:py35]",
   "language": "python",
   "name": "conda-env-py35-py"
  },
  "language_info": {
   "codemirror_mode": {
    "name": "ipython",
    "version": 3
   },
   "file_extension": ".py",
   "mimetype": "text/x-python",
   "name": "python",
   "nbconvert_exporter": "python",
   "pygments_lexer": "ipython3",
   "version": "3.5.2"
  }
 },
 "nbformat": 4,
 "nbformat_minor": 1
}
