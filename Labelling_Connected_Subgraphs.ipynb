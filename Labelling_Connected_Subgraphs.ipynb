{
 "cells": [
  {
   "cell_type": "code",
   "execution_count": 1,
   "metadata": {
    "collapsed": true
   },
   "outputs": [],
   "source": [
    "import numpy as np\n",
    "import numba"
   ]
  },
  {
   "cell_type": "code",
   "execution_count": 2,
   "metadata": {
    "collapsed": false
   },
   "outputs": [],
   "source": [
    "@numba.jit(nopython=True)\n",
    "def find_root(x, pntr_tree):\n",
    "    \"\"\" Returns the root node-ID of the connected component containing `x`\n",
    "        \n",
    "        Performs path compression. I.e. redirects all pointer values \n",
    "        along the recursive path to point directly to the root node, compressing \n",
    "        future root finding paths.\n",
    "        \n",
    "        Parameters\n",
    "        ----------\n",
    "        x : int\n",
    "            A valid node-ID.\n",
    "        pntr_tree : Sequence[int, ...]\n",
    "            A pointer-tree, indicating the connected component membership of nodes in \n",
    "            the graph.\n",
    "        \n",
    "        Returns\n",
    "        -------\n",
    "        int\n",
    "            The root node-ID of the connected component `x` \"\"\"\n",
    "    if pntr_tree[x] < 0:  # x is the root of a connected component\n",
    "        return x\n",
    "    pntr_tree[x] = find_root(pntr_tree[x], pntr_tree)  # find the root that x points to, and update tree\n",
    "    return pntr_tree[x]"
   ]
  },
  {
   "cell_type": "code",
   "execution_count": 3,
   "metadata": {
    "collapsed": true
   },
   "outputs": [],
   "source": [
    "@numba.jit(nopython=True)\n",
    "def init_pntr_tree(nrows, ncols):\n",
    "     return -1*np.ones(nrows*ncols, dtype=np.int64)"
   ]
  },
  {
   "cell_type": "code",
   "execution_count": 4,
   "metadata": {
    "collapsed": false
   },
   "outputs": [
    {
     "data": {
      "text/plain": [
       "array([-1, -1, -1, -1, -1, -1], dtype=int64)"
      ]
     },
     "execution_count": 4,
     "metadata": {},
     "output_type": "execute_result"
    }
   ],
   "source": [
    "init_pntr_tree(3,2)"
   ]
  },
  {
   "cell_type": "code",
   "execution_count": 5,
   "metadata": {
    "collapsed": false
   },
   "outputs": [],
   "source": [
    "@numba.jit(nopython=True)\n",
    "def union(x, y, pntr_tree):\n",
    "    \"\"\" Joins the connected components containing `x` and `y`, respectively.\n",
    "        \n",
    "        Performs union by rank: the root of the smaller component is pointed\n",
    "        to the root of the larger one.\n",
    "        \n",
    "        Parameters\n",
    "        ----------\n",
    "        x : int\n",
    "            A valid node-ID\n",
    "        y : int\n",
    "            A valid node-ID.\n",
    "        pntr_tree : Sequence[int, ...]\n",
    "            A pointer-tree, indicating the connected component membership of nodes in \n",
    "            the graph.\"\"\"\n",
    "    r_x = find_root(x, pntr_tree)\n",
    "    r_y = find_root(y, pntr_tree)\n",
    "    \n",
    "    if r_x != r_y:\n",
    "        if pntr_tree[r_x] <= pntr_tree[r_y]:  # subgraph containing x is bigger (in magnitude!!)\n",
    "            pntr_tree[r_x] += pntr_tree[r_y]  # add the smaller subgraph to the larger\n",
    "            pntr_tree[r_y] = r_x  # point root of cluster y to x\n",
    "        else:\n",
    "            pntr_tree[r_y] += pntr_tree[r_x]\n",
    "            pntr_tree[r_x] = r_y\n",
    "    return None\n",
    "    "
   ]
  },
  {
   "cell_type": "code",
   "execution_count": 273,
   "metadata": {
    "collapsed": false
   },
   "outputs": [],
   "source": [
    "img = (np.random.rand(200, 200) < .4).astype(np.int64)\n",
    "row, col = np.where(img > 0)\n",
    "ptr = -1*np.ones(len(row), dtype=np.int64)"
   ]
  },
  {
   "cell_type": "code",
   "execution_count": 274,
   "metadata": {
    "collapsed": false
   },
   "outputs": [
    {
     "name": "stdout",
     "output_type": "stream",
     "text": [
      "0.29.0\n",
      "(0, 0, 0)\n",
      "(0, 0, 0)\n"
     ]
    }
   ],
   "source": [
    "import numpy as np\n",
    "import numba\n",
    "\n",
    "print(numba.__version__)\n",
    "\n",
    "def f():\n",
    "    x = np.arange(6).reshape(2, 3)\n",
    "    for item in np.ndindex(3, 2, 1):\n",
    "        return item\n",
    "\n",
    "jitted_f = numba.jit(f)\n",
    "\n",
    "print(f())\n",
    "print(jitted_f())"
   ]
  },
  {
   "cell_type": "code",
   "execution_count": 275,
   "metadata": {
    "collapsed": false
   },
   "outputs": [
    {
     "data": {
      "text/plain": [
       "(0, 0, 0)"
      ]
     },
     "execution_count": 275,
     "metadata": {},
     "output_type": "execute_result"
    }
   ],
   "source": [
    "f()"
   ]
  },
  {
   "cell_type": "code",
   "execution_count": 276,
   "metadata": {
    "collapsed": true
   },
   "outputs": [],
   "source": [
    "@numba.jit(nopython=True)\n",
    "def f():\n",
    "    neighbor_links = [(1, (0, 1)), (num_col, (1, 0)), (num_col + 1, (1, 1))]\n",
    "    for dn, (drow, dcol) in neighbor_links:\n",
    "        return dn"
   ]
  },
  {
   "cell_type": "code",
   "execution_count": 277,
   "metadata": {
    "collapsed": false
   },
   "outputs": [
    {
     "data": {
      "text/plain": [
       "1"
      ]
     },
     "execution_count": 277,
     "metadata": {},
     "output_type": "execute_result"
    }
   ],
   "source": [
    "f()"
   ]
  },
  {
   "cell_type": "code",
   "execution_count": 278,
   "metadata": {
    "collapsed": false
   },
   "outputs": [],
   "source": [
    "@numba.jit(nopython=True)\n",
    "def crawl_img(img, thresh):\n",
    "    num_row, num_col = img.shape\n",
    "    ptr = init_pntr_tree(num_row, num_col)\n",
    "    bkgrnd_id = -1\n",
    "    n = -1\n",
    "    neighbor_links = [(1, (0, 1)), (num_col, (1, 0)), (num_col + 1, (1, 1))]\n",
    "    for row in range(num_row):\n",
    "        for col in range(num_col):\n",
    "            n += 1\n",
    "            value = img[row, col]  # ndenumerate isn't working with numba...\n",
    "            if value < thresh:\n",
    "                if bkgrnd_id == -1:\n",
    "                    bkgrnd_id = n\n",
    "                else:\n",
    "                    union(bkgrnd_id, n, ptr)\n",
    "            else:\n",
    "                for dn, (drow, dcol) in neighbor_links:\n",
    "                    n_n = n + dn\n",
    "                    n_row = row + drow\n",
    "                    n_col = col + dcol\n",
    "                    if n_row > num_row - 1 or n_col > num_col -1:\n",
    "                        continue\n",
    "                    n_value = img[n_row, n_col]\n",
    "                    if n_value < thresh:\n",
    "                        continue\n",
    "                    union(n, n_n, ptr)\n",
    "    return ptr\n",
    "            \n",
    "\n",
    "def crawl_img2(img, thresh):\n",
    "    num_row, num_col = img.shape\n",
    "    ptr = init_pntr_tree(num_row, num_col)\n",
    "    bkgrnd_id = -1\n",
    "    n = -1\n",
    "    neighbor_links = [(1, (0, 1)), (num_col, (1, 0)), (num_col + 1, (1, 1))]\n",
    "    for row in range(num_row):\n",
    "        for col in range(num_col):\n",
    "            n += 1\n",
    "            value = img[row, col]  # ndenumerate isn't working with numba...\n",
    "            if value < thresh:\n",
    "                if bkgrnd_id == -1:\n",
    "                    bkgrnd_id = n\n",
    "                else:\n",
    "                    union(bkgrnd_id, n, ptr)\n",
    "            else:\n",
    "                for dn, (drow, dcol) in neighbor_links:\n",
    "                    n_n = n + dn\n",
    "                    n_row = row + drow\n",
    "                    n_col = col + dcol\n",
    "                    if n_row > num_row - 1 or n_col > num_col -1:\n",
    "                        continue\n",
    "                    n_value = img[n_row, n_col]\n",
    "                    if n_value < thresh:\n",
    "                        continue\n",
    "                    union(n, n_n, ptr)\n",
    "    return ptr       \n",
    "            \n",
    "            \n",
    "                \n",
    "            "
   ]
  },
  {
   "cell_type": "code",
   "execution_count": 279,
   "metadata": {
    "collapsed": false
   },
   "outputs": [
    {
     "data": {
      "text/plain": [
       "array([[0, 0, 1, ..., 1, 1, 1],\n",
       "       [0, 0, 0, ..., 0, 1, 0],\n",
       "       [1, 0, 0, ..., 0, 1, 1],\n",
       "       ..., \n",
       "       [0, 1, 1, ..., 0, 1, 1],\n",
       "       [1, 0, 0, ..., 0, 1, 1],\n",
       "       [0, 1, 0, ..., 1, 1, 0]], dtype=int64)"
      ]
     },
     "execution_count": 279,
     "metadata": {},
     "output_type": "execute_result"
    }
   ],
   "source": [
    "img"
   ]
  },
  {
   "cell_type": "code",
   "execution_count": 280,
   "metadata": {
    "collapsed": false
   },
   "outputs": [
    {
     "name": "stdout",
     "output_type": "stream",
     "text": [
      "The slowest run took 53.63 times longer than the fastest. This could mean that an intermediate result is being cached.\n",
      "100 loops, best of 3: 2.61 ms per loop\n"
     ]
    }
   ],
   "source": [
    "%%timeit\n",
    "out = crawl_img(img, .5)"
   ]
  },
  {
   "cell_type": "code",
   "execution_count": 281,
   "metadata": {
    "collapsed": false
   },
   "outputs": [
    {
     "name": "stdout",
     "output_type": "stream",
     "text": [
      "10 loops, best of 3: 113 ms per loop\n"
     ]
    }
   ],
   "source": [
    "%%timeit\n",
    "out = crawl_img2(img, .5)"
   ]
  },
  {
   "cell_type": "code",
   "execution_count": 253,
   "metadata": {
    "collapsed": true
   },
   "outputs": [],
   "source": [
    "out = crawl_img(img, .5)"
   ]
  },
  {
   "cell_type": "code",
   "execution_count": 261,
   "metadata": {
    "collapsed": false
   },
   "outputs": [
    {
     "data": {
      "text/plain": [
       "(array([  0,   6,  10,  22,  37,  53,  62,  65,  89, 102, 125, 131, 142,\n",
       "        158, 170, 172, 174, 180, 198, 202, 211, 213, 215, 226, 240, 243,\n",
       "        245, 251, 270, 275, 299, 314, 316, 320, 323, 332, 347, 354, 360,\n",
       "        377, 394], dtype=int64),)"
      ]
     },
     "execution_count": 261,
     "metadata": {},
     "output_type": "execute_result"
    }
   ],
   "source": [
    "np.where(out < 0)"
   ]
  },
  {
   "cell_type": "code",
   "execution_count": 259,
   "metadata": {
    "collapsed": false
   },
   "outputs": [
    {
     "data": {
      "text/plain": [
       "6"
      ]
     },
     "execution_count": 259,
     "metadata": {},
     "output_type": "execute_result"
    }
   ],
   "source": [
    "len(np.unique(out[np.where(out < 0)]))"
   ]
  },
  {
   "cell_type": "code",
   "execution_count": 258,
   "metadata": {
    "collapsed": false
   },
   "outputs": [
    {
     "data": {
      "text/plain": [
       "array([  0,  10,  37,  53,  65, 158, 180, 198, 215, 270, 316, 323, 347,\n",
       "       354, 360, 377], dtype=int64)"
      ]
     },
     "execution_count": 258,
     "metadata": {},
     "output_type": "execute_result"
    }
   ],
   "source": [
    "np.unique(out[np.where(out > -1)])"
   ]
  },
  {
   "cell_type": "code",
   "execution_count": 236,
   "metadata": {
    "collapsed": false
   },
   "outputs": [
    {
     "data": {
      "text/plain": [
       "9"
      ]
     },
     "execution_count": 236,
     "metadata": {},
     "output_type": "execute_result"
    }
   ],
   "source": [
    "out[72]"
   ]
  },
  {
   "cell_type": "code",
   "execution_count": 257,
   "metadata": {
    "collapsed": false
   },
   "outputs": [],
   "source": [
    "for i in range(len(out)):\n",
    "    find_root(i, out)"
   ]
  },
  {
   "cell_type": "code",
   "execution_count": 238,
   "metadata": {
    "collapsed": false
   },
   "outputs": [
    {
     "data": {
      "text/plain": [
       "-400"
      ]
     },
     "execution_count": 238,
     "metadata": {},
     "output_type": "execute_result"
    }
   ],
   "source": [
    "np.sum(out[np.where(out < 0)])"
   ]
  },
  {
   "cell_type": "code",
   "execution_count": 237,
   "metadata": {
    "collapsed": false
   },
   "outputs": [
    {
     "name": "stdout",
     "output_type": "stream",
     "text": [
      "[[-183 -137    1    0    0    0    0   25    0  -44    9    9    9    9\n",
      "     9    9    9    9    9    0]\n",
      " [   0    1    1    1    0   -7   25   25    0    9    0    0    9    9\n",
      "     0    0    9    0    0    9]\n",
      " [   1    1    1    1    0    0   25   25    0    9    0    9    0    0\n",
      "     9    0    9    0    9    0]\n",
      " [   0    1    0    1    1    1    0   25    0    9    0    9    9    0\n",
      "     0    0    9    9    9    9]\n",
      " [   1    1    0    0    0    1    1    0    0    0    9    9    9    0\n",
      "     1    1    0    0    0    0]\n",
      " [   1    0    0    1    1    0    0    1    1    1    0    0    9    0\n",
      "     0    1    1    1    0    1]\n",
      " [   0    0    1    1    1    1    1    1    1    0    0    0    9    0\n",
      "     0    1    1    0    0    1]\n",
      " [   0    0    0    1    1    1    1    1    1    0    0    9    9    9\n",
      "     0    1    0    1    1    1]\n",
      " [   0    0    0    1    0    1    0    0    0    1    1    0    9    0\n",
      "     9    0    0    1    0    0]\n",
      " [   0    0    0    1    1    0    1    0    1    1    0    0    9    0\n",
      "     9    0    0    1    1    1]\n",
      " [ -10    0    0    1    0    0    1    0    0    0    1    1    0    9\n",
      "     9    0    1    1    1    0]\n",
      " [ 200    0    0    0    1    1    1    1    0    1    1    0    0    9\n",
      "     9    9    0    1    0    1]\n",
      " [ 200  200    0    1    1    0    1    0    1    1    1    0    0    0\n",
      "     0    0    0    1    1    1]\n",
      " [   0  200    0    1    1    0    1    1    0    0    1    1    1    1\n",
      "     1    0    1    1    1    1]\n",
      " [   0  200  200    0    0    1    0    1    0    0    0    1    1    0\n",
      "     1    1    1    1    0    1]\n",
      " [ -15    0  200  200    0    1    1    1    0    0    1    0    1    0\n",
      "     0    1    1    1    0    0]\n",
      " [ 300    0  200    0    0    0    0    1    1    0    0    1    1    0\n",
      "     0    0    0    0    0   -1]\n",
      " [   0  300    0    0    0    0  300    0    1    1    1    1    0    0\n",
      "     1    1    1    0    0    0]\n",
      " [   0  300  300  300  300  300    0  300    0    0    1    0    0    1\n",
      "     0    1    1    0   -2    0]\n",
      " [   0  300  300    0  300    0  300  300    0   -1    0    1    1    1\n",
      "     1    1    1    0  378    0]]\n"
     ]
    }
   ],
   "source": [
    "print(out.reshape(img.shape))"
   ]
  },
  {
   "cell_type": "code",
   "execution_count": 16,
   "metadata": {
    "collapsed": false
   },
   "outputs": [
    {
     "data": {
      "text/plain": [
       "[(0, 0), (0, 1), (0, 2), (1, 0), (1, 1), (1, 2), (2, 0), (2, 1), (2, 2)]"
      ]
     },
     "execution_count": 16,
     "metadata": {},
     "output_type": "execute_result"
    }
   ],
   "source": [
    "[(r,c) for r,c in np.ndindex(3, 3)]"
   ]
  },
  {
   "cell_type": "code",
   "execution_count": null,
   "metadata": {
    "collapsed": true
   },
   "outputs": [],
   "source": []
  }
 ],
 "metadata": {
  "anaconda-cloud": {},
  "kernelspec": {
   "display_name": "Python [conda env:py35]",
   "language": "python",
   "name": "conda-env-py35-py"
  },
  "language_info": {
   "codemirror_mode": {
    "name": "ipython",
    "version": 3
   },
   "file_extension": ".py",
   "mimetype": "text/x-python",
   "name": "python",
   "nbconvert_exporter": "python",
   "pygments_lexer": "ipython3",
   "version": "3.5.2"
  }
 },
 "nbformat": 4,
 "nbformat_minor": 1
}
